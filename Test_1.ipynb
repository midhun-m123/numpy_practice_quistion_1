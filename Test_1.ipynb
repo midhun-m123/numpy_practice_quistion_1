{
  "nbformat": 4,
  "nbformat_minor": 0,
  "metadata": {
    "colab": {
      "provenance": []
    },
    "kernelspec": {
      "name": "python3",
      "display_name": "Python 3"
    },
    "language_info": {
      "name": "python"
    }
  },
  "cells": [
    {
      "cell_type": "markdown",
      "source": [
        "#1\n",
        "a)"
      ],
      "metadata": {
        "id": "STougVaJCRYv"
      }
    },
    {
      "cell_type": "code",
      "execution_count": null,
      "metadata": {
        "colab": {
          "base_uri": "https://localhost:8080/"
        },
        "id": "1_S3GzlmBgPU",
        "outputId": "c0ed6650-ddd4-46ea-ddd4-59b7dda15d5a"
      },
      "outputs": [
        {
          "output_type": "stream",
          "name": "stdout",
          "text": [
            "[[6 7 4 7 8]\n",
            " [4 5 3 2 1]\n",
            " [5 6 8 9 0]]\n",
            "[5 3 2]\n"
          ]
        }
      ],
      "source": [
        "import numpy as np\n",
        "x=np.array([[6,7,4,7,8],[4,5,3,2,1],[5,6,8,9,0]])\n",
        "a=x[1,1:4]\n",
        "print(x)\n",
        "print(a)\n"
      ]
    },
    {
      "cell_type": "markdown",
      "source": [
        "b)"
      ],
      "metadata": {
        "id": "O8ewY9AcDLGv"
      }
    },
    {
      "cell_type": "code",
      "source": [
        "b=x[:,:3]\n",
        "print(b)"
      ],
      "metadata": {
        "colab": {
          "base_uri": "https://localhost:8080/"
        },
        "id": "9ZlUexPcDJuv",
        "outputId": "1d157e7c-56e5-410e-e266-e2fec27952de"
      },
      "execution_count": null,
      "outputs": [
        {
          "output_type": "stream",
          "name": "stdout",
          "text": [
            "[[6 7 4]\n",
            " [4 5 3]\n",
            " [5 6 8]]\n"
          ]
        }
      ]
    },
    {
      "cell_type": "markdown",
      "source": [
        "c)"
      ],
      "metadata": {
        "id": "IV1C_8z8E3_Q"
      }
    },
    {
      "cell_type": "code",
      "source": [
        "c=x.T\n",
        "print(c)"
      ],
      "metadata": {
        "colab": {
          "base_uri": "https://localhost:8080/"
        },
        "id": "Q1DxG74UDZBx",
        "outputId": "da0b1a0f-3c7c-4ef1-fa2e-bea2e1fc0cb1"
      },
      "execution_count": null,
      "outputs": [
        {
          "output_type": "stream",
          "name": "stdout",
          "text": [
            "[[6 4 5]\n",
            " [7 5 6]\n",
            " [4 3 8]\n",
            " [7 2 9]\n",
            " [8 1 0]]\n"
          ]
        }
      ]
    },
    {
      "cell_type": "markdown",
      "source": [
        "#2"
      ],
      "metadata": {
        "id": "DPg1cvj_E8OX"
      }
    },
    {
      "cell_type": "code",
      "source": [
        "import numpy as np\n",
        "a=np.arange(20,46)\n",
        "print(a)\n",
        "c=np.random.randint([25,46,3])\n",
        "print(c)\n"
      ],
      "metadata": {
        "colab": {
          "base_uri": "https://localhost:8080/"
        },
        "id": "lCgUWPjmD7aX",
        "outputId": "9fd101c7-4373-46b0-917d-6ad21ebc503c"
      },
      "execution_count": null,
      "outputs": [
        {
          "output_type": "stream",
          "name": "stdout",
          "text": [
            "[20 21 22 23 24 25 26 27 28 29 30 31 32 33 34 35 36 37 38 39 40 41 42 43\n",
            " 44 45]\n",
            "[23 16  0]\n"
          ]
        }
      ]
    },
    {
      "cell_type": "markdown",
      "source": [
        "#3"
      ],
      "metadata": {
        "id": "SdeSmoRKF_rX"
      }
    },
    {
      "cell_type": "code",
      "source": [
        "import numpy as np\n",
        "a=np.zeros((10,10),dtype=int)\n",
        "a[1::2,::2]=1\n",
        "a[::2,1::2]=1\n",
        "print(a)"
      ],
      "metadata": {
        "colab": {
          "base_uri": "https://localhost:8080/"
        },
        "id": "7XxvAQYaEgqA",
        "outputId": "e77043b8-bbbe-4105-804d-8aae7add957f"
      },
      "execution_count": null,
      "outputs": [
        {
          "output_type": "stream",
          "name": "stdout",
          "text": [
            "[[0 1 0 1 0 1 0 1 0 1]\n",
            " [1 0 1 0 1 0 1 0 1 0]\n",
            " [0 1 0 1 0 1 0 1 0 1]\n",
            " [1 0 1 0 1 0 1 0 1 0]\n",
            " [0 1 0 1 0 1 0 1 0 1]\n",
            " [1 0 1 0 1 0 1 0 1 0]\n",
            " [0 1 0 1 0 1 0 1 0 1]\n",
            " [1 0 1 0 1 0 1 0 1 0]\n",
            " [0 1 0 1 0 1 0 1 0 1]\n",
            " [1 0 1 0 1 0 1 0 1 0]]\n"
          ]
        }
      ]
    },
    {
      "cell_type": "markdown",
      "source": [
        "#4"
      ],
      "metadata": {
        "id": "w9KRScbBGoo4"
      }
    },
    {
      "cell_type": "code",
      "source": [
        "import  numpy as np\n",
        "l1=[1,2,3,4,5,6,7,8]\n",
        "a=np.array(l1)\n",
        "print(a)\n",
        "print(\"--------\")\n",
        "tuple1=([8,4,6],[1,2,3])\n",
        "b=np.array(tuple1)\n",
        "print(b)"
      ],
      "metadata": {
        "colab": {
          "base_uri": "https://localhost:8080/"
        },
        "id": "i_UJ50o2GPnQ",
        "outputId": "d235c710-0178-4839-86e5-3a022ae6f19d"
      },
      "execution_count": null,
      "outputs": [
        {
          "output_type": "stream",
          "name": "stdout",
          "text": [
            "[1 2 3 4 5 6 7 8]\n",
            "--------\n",
            "[[8 4 6]\n",
            " [1 2 3]]\n"
          ]
        }
      ]
    },
    {
      "cell_type": "markdown",
      "source": [
        "#5"
      ],
      "metadata": {
        "id": "6aRlm4qVHXTm"
      }
    },
    {
      "cell_type": "code",
      "source": [
        "import numpy as np\n",
        "a=np.array([[[1,2],[3,4]],[[5,6],[7,8]],[[9,10],[11,12]]])\n",
        "a[1,1,1]=0\n",
        "print(a)"
      ],
      "metadata": {
        "colab": {
          "base_uri": "https://localhost:8080/"
        },
        "id": "F2noQ0WrHY43",
        "outputId": "12c78923-529a-4b2a-b59a-4a3c577a435f"
      },
      "execution_count": null,
      "outputs": [
        {
          "output_type": "stream",
          "name": "stdout",
          "text": [
            "[[[ 1  2]\n",
            "  [ 3  4]]\n",
            "\n",
            " [[ 5  6]\n",
            "  [ 7  0]]\n",
            "\n",
            " [[ 9 10]\n",
            "  [11 12]]]\n"
          ]
        }
      ]
    },
    {
      "cell_type": "markdown",
      "source": [
        "#6"
      ],
      "metadata": {
        "id": "4hN_AjooIPW3"
      }
    },
    {
      "cell_type": "code",
      "source": [
        "import numpy as np\n",
        "a=np.array([1.1,1.2,1.3])\n",
        "b=a.astype(int)\n",
        "print(b)"
      ],
      "metadata": {
        "colab": {
          "base_uri": "https://localhost:8080/"
        },
        "id": "BX8sPb6hH6pA",
        "outputId": "606c0306-c10a-47f6-ba72-bef8686a88d5"
      },
      "execution_count": null,
      "outputs": [
        {
          "output_type": "stream",
          "name": "stdout",
          "text": [
            "[1 1 1]\n"
          ]
        }
      ]
    },
    {
      "cell_type": "markdown",
      "source": [
        "#7"
      ],
      "metadata": {
        "id": "hNPcwjGJIq6Z"
      }
    },
    {
      "cell_type": "code",
      "source": [
        "import numpy as np\n",
        "a=np.zeros((7,7),dtype=int)\n",
        "a[1:6,1:6]=1\n",
        "a[2:5,2:5]=2\n",
        "a[3,3]=3\n",
        "print(a)"
      ],
      "metadata": {
        "colab": {
          "base_uri": "https://localhost:8080/"
        },
        "id": "wasjBm6qInPJ",
        "outputId": "a60619c0-5656-4714-ca4b-26ccb018f881"
      },
      "execution_count": null,
      "outputs": [
        {
          "output_type": "stream",
          "name": "stdout",
          "text": [
            "[[0 0 0 0 0 0 0]\n",
            " [0 1 1 1 1 1 0]\n",
            " [0 1 2 2 2 1 0]\n",
            " [0 1 2 3 2 1 0]\n",
            " [0 1 2 2 2 1 0]\n",
            " [0 1 1 1 1 1 0]\n",
            " [0 0 0 0 0 0 0]]\n"
          ]
        }
      ]
    },
    {
      "cell_type": "markdown",
      "source": [
        "#8"
      ],
      "metadata": {
        "id": "rhDnNtrLIw-Y"
      }
    },
    {
      "cell_type": "code",
      "source": [
        "import numpy as np\n",
        "a=np.array([[1,2],[4,6],[8,9],[2,2]])\n",
        "b=a.T\n",
        "print(b)\n"
      ],
      "metadata": {
        "colab": {
          "base_uri": "https://localhost:8080/"
        },
        "id": "qnOihTojIwaB",
        "outputId": "8665514c-c425-47ef-b269-210967a61a18"
      },
      "execution_count": null,
      "outputs": [
        {
          "output_type": "stream",
          "name": "stdout",
          "text": [
            "[[1 4 8 2]\n",
            " [2 6 9 2]]\n"
          ]
        }
      ]
    },
    {
      "cell_type": "markdown",
      "source": [
        "#9\n",
        "a)"
      ],
      "metadata": {
        "id": "LWmb-poEKWnn"
      }
    },
    {
      "cell_type": "code",
      "source": [
        "import numpy as np\n",
        "a=np.array([[[5,6,7],[7,8,9],],[[0,4,8],[2,3,1]],[[9,5,3],[0,4,4]]])\n",
        "\n",
        "a[:,1,1]=0\n",
        "print(a)"
      ],
      "metadata": {
        "colab": {
          "base_uri": "https://localhost:8080/"
        },
        "id": "AQ9kZDW6KVYx",
        "outputId": "229be5aa-c37a-4f55-c52e-8dc3615cbf6a"
      },
      "execution_count": null,
      "outputs": [
        {
          "output_type": "stream",
          "name": "stdout",
          "text": [
            "[[[5 6 7]\n",
            "  [7 0 9]]\n",
            "\n",
            " [[0 4 8]\n",
            "  [2 0 1]]\n",
            "\n",
            " [[9 5 3]\n",
            "  [0 0 4]]]\n"
          ]
        }
      ]
    },
    {
      "cell_type": "markdown",
      "source": [
        "b)"
      ],
      "metadata": {
        "id": "INJjyi7LLVJn"
      }
    },
    {
      "cell_type": "code",
      "source": [
        "b=np.array([[[11,10,12],[88,0,45]],[[90,78,33],[41,77,0]],[[8,9,90],[12,67,9]]])\n",
        "b[:,0,0::2]=0\n",
        "print(b)"
      ],
      "metadata": {
        "colab": {
          "base_uri": "https://localhost:8080/"
        },
        "id": "RcIOtyUrLEwA",
        "outputId": "a436a2b3-ba8a-4352-9b26-40a8b36a5d37"
      },
      "execution_count": null,
      "outputs": [
        {
          "output_type": "stream",
          "name": "stdout",
          "text": [
            "[[[ 0 10  0]\n",
            "  [88  0 45]]\n",
            "\n",
            " [[ 0 78  0]\n",
            "  [41 77  0]]\n",
            "\n",
            " [[ 0  9  0]\n",
            "  [12 67  9]]]\n"
          ]
        }
      ]
    },
    {
      "cell_type": "markdown",
      "source": [
        "#10"
      ],
      "metadata": {
        "id": "KtQqcZ3tMj-h"
      }
    },
    {
      "cell_type": "code",
      "source": [
        "import numpy as np\n",
        "a=np.zeros((6,7),dtype=int)\n",
        "a[:4:3,1::2]=1\n",
        "a[2::3,::2]=1\n",
        "print(a)\n",
        "\n"
      ],
      "metadata": {
        "colab": {
          "base_uri": "https://localhost:8080/"
        },
        "id": "rh7oNd5tL23Y",
        "outputId": "2c69bc4f-8ff0-4c71-9b22-106534c54122"
      },
      "execution_count": null,
      "outputs": [
        {
          "output_type": "stream",
          "name": "stdout",
          "text": [
            "[[0 1 0 1 0 1 0]\n",
            " [0 0 0 0 0 0 0]\n",
            " [1 0 1 0 1 0 1]\n",
            " [0 1 0 1 0 1 0]\n",
            " [0 0 0 0 0 0 0]\n",
            " [1 0 1 0 1 0 1]]\n"
          ]
        }
      ]
    }
  ]
}